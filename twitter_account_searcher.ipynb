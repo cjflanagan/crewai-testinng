{
 "cells": [
  {
   "cell_type": "markdown",
   "id": "33efc579",
   "metadata": {},
   "source": [
    "# Twitter Account Discovery with CrewAI\n",
    "\n",
    "This notebook demonstrates how to use [CrewAI](https://github.com/crewAIInc/crewAI) to build a hierarchical agent system that searches Twitter for accounts related to a topic. The search continues until 1000 unique accounts are gathered."
   ]
  },
  {
   "cell_type": "markdown",
   "id": "abadc91e",
   "metadata": {},
   "source": [
    "## Install dependencies\n",
    "Run the following cell if the required packages are not installed."
   ]
  },
  {
   "cell_type": "code",
   "execution_count": null,
   "id": "217679fa",
   "metadata": {},
   "outputs": [],
   "source": [
    "!pip install crewai tweepy -q"
   ]
  },
  {
   "cell_type": "markdown",
   "id": "b43328e9",
   "metadata": {},
   "source": [
    "## Imports and API credentials\n",
    "Set your API keys as environment variables before running the rest of the notebook:"
   ]
  },
  {
   "cell_type": "code",
   "execution_count": null,
   "id": "03b9dba9",
   "metadata": {},
   "outputs": [],
   "source": [
    "import os\n",
    "TWITTER_CONSUMER_KEY = os.getenv('TWITTER_CONSUMER_KEY')\n",
    "TWITTER_CONSUMER_SECRET = os.getenv('TWITTER_CONSUMER_SECRET')\n",
    "TWITTER_ACCESS_TOKEN = os.getenv('TWITTER_ACCESS_TOKEN')\n",
    "TWITTER_ACCESS_SECRET = os.getenv('TWITTER_ACCESS_SECRET')\n",
    "\n",
    "OPENAI_API_KEY = os.getenv('OPENAI_API_KEY')\n",
    "SERPER_API_KEY = os.getenv('SERPER_API_KEY')\n"
   ]
  },
  {
   "cell_type": "markdown",
   "id": "de8a48ae",
   "metadata": {},
   "source": [
    "If any of the variables above prints `None`, set them in your environment before continuing."
   ]
  },
  {
   "cell_type": "code",
   "execution_count": null,
   "id": "0fa568cd",
   "metadata": {},
   "outputs": [],
   "source": [
    "print('TWITTER_CONSUMER_KEY:', TWITTER_CONSUMER_KEY)"
   ]
  },
  {
   "cell_type": "markdown",
   "id": "7d9fb826",
   "metadata": {},
   "source": [
    "## Twitter search tool"
   ]
  },
  {
   "cell_type": "code",
   "execution_count": null,
   "id": "bf640501",
   "metadata": {},
   "outputs": [],
   "source": [
    "import tweepy\n",
    "from typing import List, Dict\n",
    "\n",
    "class TwitterSearchTool:\n",
    "    def __init__(self):\n",
    "        auth = tweepy.OAuth1UserHandler(\n",
    "            TWITTER_CONSUMER_KEY,\n",
    "            TWITTER_CONSUMER_SECRET,\n",
    "            TWITTER_ACCESS_TOKEN,\n",
    "            TWITTER_ACCESS_SECRET,\n",
    "        )\n",
    "        self.api = tweepy.API(auth)\n",
    "\n",
    "    def search_accounts(self, query: str, count: int = 20) -> List[Dict]:\n",
    "        users = self.api.search_users(q=query, count=count)\n",
    "        return [\n",
    "            {\n",
    "                'username': user.screen_name,\n",
    "                'name': user.name,\n",
    "                'description': user.description,\n",
    "                'followers': user.followers_count,\n",
    "                'profile_url': f'https://twitter.com/{user.screen_name}',\n",
    "            }\n",
    "            for user in users\n",
    "        ]\n"
   ]
  },
  {
   "cell_type": "markdown",
   "id": "8f66de23",
   "metadata": {},
   "source": [
    "## Define CrewAI agents"
   ]
  },
  {
   "cell_type": "code",
   "execution_count": null,
   "id": "62a14d97",
   "metadata": {},
   "outputs": [],
   "source": [
    "from crewai import Agent, Task, Crew, Process\n",
    "\n",
    "searcher = Agent(\n",
    "    role='Account Finder',\n",
    "    goal='Identify Twitter accounts related to a given topic',\n",
    "    backstory='Expert at social media research and data collection',\n",
    "    tools=[TwitterSearchTool()],\n",
    "    verbose=True,\n",
    ")\n",
    "\n",
    "manager = Agent(\n",
    "    role='Search Manager',\n",
    "    goal='Ensure at least 1000 unique accounts are collected',\n",
    "    backstory='Oversees the search process and removes duplicates',\n",
    "    verbose=True,\n",
    ")\n",
    "\n",
    "search_task = Task(\n",
    "    description='Search for Twitter accounts related to {topic}. Return results as JSON.',\n",
    "    expected_output='A JSON list of accounts',\n",
    "    agent=searcher,\n",
    ")\n",
    "\n",
    "manager_task = Task(\n",
    "    description='Coordinate the search until 1000 unique accounts are gathered.',\n",
    "    agent=manager,\n",
    ")\n",
    "\n",
    "crew = Crew(\n",
    "    agents=[manager, searcher],\n",
    "    tasks=[manager_task, search_task],\n",
    "    process=Process.hierarchical,\n",
    ")\n"
   ]
  },
  {
   "cell_type": "markdown",
   "id": "a379b304",
   "metadata": {},
   "source": [
    "## Collect accounts"
   ]
  },
  {
   "cell_type": "code",
   "execution_count": null,
   "id": "f7a4a8bd",
   "metadata": {},
   "outputs": [],
   "source": [
    "import pandas as pd\n",
    "\n",
    "def gather_accounts(topic: str, batch_size: int = 20) -> pd.DataFrame:\n",
    "    unique = {}\n",
    "    page = 1\n",
    "    while len(unique) < 1000:\n",
    "        print(f'Searching batch {page}...')\n",
    "        results = searcher.tools[0].search_accounts(query=topic, count=batch_size)\n",
    "        for account in results:\n",
    "            unique[account['username']] = account\n",
    "        print(f'Total unique accounts: {len(unique)}')\n",
    "        page += 1\n",
    "    return pd.DataFrame(list(unique.values()))\n"
   ]
  },
  {
   "cell_type": "markdown",
   "id": "01975687",
   "metadata": {},
   "source": [
    "## Run the search"
   ]
  },
  {
   "cell_type": "code",
   "execution_count": null,
   "id": "18864dc7",
   "metadata": {},
   "outputs": [],
   "source": [
    "topic = 'AI research'\n",
    "accounts_df = gather_accounts(topic)\n",
    "accounts_df.head()\n"
   ]
  }
 ],
 "metadata": {},
 "nbformat": 4,
 "nbformat_minor": 5
}
