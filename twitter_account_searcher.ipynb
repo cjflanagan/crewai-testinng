{
 "cells": [
  {
   "cell_type": "markdown",
   "id": "2366f90b",
   "metadata": {},
   "source": [
    "# Twitter Account Discovery with CrewAI\n",
    "\n",
    "This notebook demonstrates how to use [CrewAI](https://github.com/crewAIInc/crewAI) to build a hierarchical agent system that collects Twitter accounts related to a topic. Search results are gathered from DuckDuckGo to avoid querying Twitter directly."
   ]
  },
  {
   "cell_type": "markdown",
   "id": "abadc91e",
   "metadata": {},
   "source": [
    "## Install dependencies\n",
    "Run the following cell if the required packages are not installed."
   ]
  },
  {
   "cell_type": "code",
   "execution_count": null,
   "id": "217679fa",
   "metadata": {},
   "outputs": [],
   "source": [
    "!pip install crewai tweepy duckduckgo-search -q"
   ]
  },
  {
   "cell_type": "markdown",
   "id": "b43328e9",
   "metadata": {},
   "source": [
    "## Imports and API credentials\n",
    "Set your API keys as environment variables before running the rest of the notebook:"
   ]
  },
  {
   "cell_type": "code",
   "execution_count": null,
   "id": "03b9dba9",
   "metadata": {},
   "outputs": [],
   "source": [
    "import os\n",
    "TWITTER_CONSUMER_KEY = os.getenv('TWITTER_CONSUMER_KEY')\n",
    "TWITTER_CONSUMER_SECRET = os.getenv('TWITTER_CONSUMER_SECRET')\n",
    "TWITTER_ACCESS_TOKEN = os.getenv('TWITTER_ACCESS_TOKEN')\n",
    "TWITTER_ACCESS_SECRET = os.getenv('TWITTER_ACCESS_SECRET')\n",
    "\n",
    "OPENAI_API_KEY = os.getenv('OPENAI_API_KEY')\n",
    "SERPER_API_KEY = os.getenv('SERPER_API_KEY')\n"
   ]
  },
  {
   "cell_type": "markdown",
   "id": "de8a48ae",
   "metadata": {},
   "source": [
    "If any of the variables above prints `None`, set them in your environment before continuing."
   ]
  },
  {
   "cell_type": "code",
   "execution_count": null,
   "id": "0fa568cd",
   "metadata": {},
   "outputs": [],
   "source": [
    "print('TWITTER_CONSUMER_KEY:', TWITTER_CONSUMER_KEY)"
   ]
  },
  {
   "cell_type": "markdown",
   "id": "7d9fb826",
   "metadata": {},
   "source": [
    "## DuckDuckGo search tool"
   ]
  },
  {
   "cell_type": "code",
   "execution_count": null,
   "id": "bf640501",
   "metadata": {},
   "outputs": [],
   "source": [
    "import tweepy\n",
    "from typing import List, Dict\n",
    "from duckduckgo_search import DDGS\n",
    "\n",
    "class TwitterProfileTool:\n",
    "    def __init__(self):\n",
    "        auth = tweepy.OAuth1UserHandler(\n",
    "            TWITTER_CONSUMER_KEY,\n",
    "            TWITTER_CONSUMER_SECRET,\n",
    "            TWITTER_ACCESS_TOKEN,\n",
    "            TWITTER_ACCESS_SECRET,\n",
    "        )\n",
    "        self.api = tweepy.API(auth)\n",
    "\n",
    "    def get_profile(self, username: str) -> Dict | None:\n",
    "        try:\n",
    "            user = self.api.get_user(screen_name=username)\n",
    "            return {\n",
    "                'username': user.screen_name,\n",
    "                'name': user.name,\n",
    "                'description': user.description,\n",
    "                'followers': user.followers_count,\n",
    "                'profile_url': f'https://twitter.com/{user.screen_name}',\n",
    "            }\n",
    "        except tweepy.TweepyException:\n",
    "            return None\n",
    "\n",
    "class DuckDuckGoSearchTool:\n",
    "    def search_accounts(self, query: str, count: int = 20) -> List[str]:\n",
    "        with DDGS() as ddgs:\n",
    "            results = ddgs.text(f\"site:twitter.com {query}\", max_results=count)\n",
    "            handles = []\n",
    "            for r in results:\n",
    "                url = r.get('href') or r.get('url')\n",
    "                if not url or 'twitter.com/' not in url:\n",
    "                    continue\n",
    "                username = url.split('twitter.com/')[-1].split('/')[0]\n",
    "                username = username.lstrip('@').split('?')[0]\n",
    "                if username and username not in handles:\n",
    "                    handles.append(username)\n",
    "        return handles\n"
   ]
  },
  {
   "cell_type": "markdown",
   "id": "8f66de23",
   "metadata": {},
   "source": [
    "## Define CrewAI agents"
   ]
  },
  {
   "cell_type": "code",
   "execution_count": null,
   "id": "62a14d97",
   "metadata": {},
   "outputs": [],
   "source": [
    "from crewai import Agent, Task, Crew, Process\n",
    "\n",
    "searcher = Agent(\n",
    "    role='Account Finder',\n",
    "    goal='Identify Twitter accounts related to a given topic',\n",
    "    backstory='Expert at social media research and data collection',\n",
    "    tools=[DuckDuckGoSearchTool()],\n",
    "    verbose=True,\n",
    ")\n",
    "\n",
    "manager = Agent(\n",
    "    role='Search Manager',\n",
    "    goal='Ensure at least 1000 unique accounts are collected',\n",
    "    backstory='Oversees the search process and removes duplicates',\n",
    "    verbose=True,\n",
    ")\n",
    "\n",
    "search_task = Task(\n",
    "    description='Search for Twitter accounts related to {topic}. Return results as JSON.',\n",
    "    expected_output='A JSON list of accounts',\n",
    "    agent=searcher,\n",
    ")\n",
    "\n",
    "manager_task = Task(\n",
    "    description='Coordinate the search until 1000 unique accounts are gathered.',\n",
    "    agent=manager,\n",
    ")\n",
    "\n",
    "crew = Crew(\n",
    "    agents=[manager, searcher],\n",
    "    tasks=[manager_task, search_task],\n",
    "    process=Process.hierarchical,\n",
    ")\n"
   ]
  },
  {
   "cell_type": "markdown",
   "id": "a379b304",
   "metadata": {},
   "source": [
    "## Collect accounts"
   ]
  },
  {
   "cell_type": "code",
   "execution_count": null,
   "id": "f7a4a8bd",
   "metadata": {},
   "outputs": [],
   "source": [
    "import pandas as pd\n",
    "\n",
    "def gather_accounts(topic: str, batch_size: int = 20) -> pd.DataFrame:\n",
    "    searcher_tool = DuckDuckGoSearchTool()\n",
    "    verifier = TwitterProfileTool()\n",
    "    unique = {}\n",
    "    page = 1\n",
    "    while len(unique) < 1000:\n",
    "        print(f'Searching batch {page}...')\n",
    "        handles = searcher_tool.search_accounts(query=topic, count=batch_size)\n",
    "        for handle in handles:\n",
    "            if handle in unique:\n",
    "                continue\n",
    "            profile = verifier.get_profile(handle)\n",
    "            if profile and profile['followers'] > 0:\n",
    "                unique[handle] = profile\n",
    "        print(f'Total unique verified accounts: {len(unique)}')\n",
    "        page += 1\n",
    "    return pd.DataFrame(list(unique.values()))\n"
   ]
  },
  {
   "cell_type": "markdown",
   "id": "01975687",
   "metadata": {},
   "source": [
    "## Run the search"
   ]
  },
  {
   "cell_type": "code",
   "execution_count": null,
   "id": "18864dc7",
   "metadata": {},
   "outputs": [],
   "source": [
    "topic = 'AI research'\n",
    "accounts_df = gather_accounts(topic)\n",
    "accounts_df.head()\n"
   ]
  }
 ],
 "metadata": {},
 "nbformat": 4,
 "nbformat_minor": 5
}
