{
 "cells": [
  {
   "cell_type": "markdown",
   "id": "e449faad",
   "metadata": {},
   "source": [
    "\n",
    "# Hierarchical Twitter Account Search with CrewAI\n",
    "\n",
    "This notebook demonstrates a hierarchical agent setup using [CrewAI](https://github.com/crewAIInc/crewAI). The manager agent delegates search tasks to a specialist searcher agent. The searcher uses SerpAPI to find Twitter accounts related to a topic. The goal is to collect **1000 unique accounts**.\n",
    "\n",
    "The hierarchical collaboration pattern follows the CrewAI documentation:\n",
    "\n",
    "```python\n",
    "from crewai import Agent, Crew, Task, Process\n",
    "# Manager agent coordinates the team\n",
    "manager = Agent(\n",
    "    role=\"Project Manager\",\n",
    "    goal=\"Coordinate team efforts and ensure project success\",\n",
    "    backstory=\"Experienced project manager skilled at delegation and quality control\",\n",
    "    allow_delegation=True,\n",
    "    verbose=True\n",
    ")\n",
    "# Specialist agents\n",
    "researcher = Agent(\n",
    "    role=\"Researcher\",\n",
    "    goal=\"Provide accurate research and analysis\",\n",
    "    backstory=\"Expert researcher with deep analytical skills\",\n",
    "    allow_delegation=False,\n",
    "    verbose=True\n",
    ")\n",
    "# Hierarchical crew\n",
    "crew = Crew(\n",
    "    agents=[manager, researcher],\n",
    "    tasks=[project_task],\n",
    "    process=Process.hierarchical,\n",
    "    manager_llm=\"gpt-4o\",\n",
    "    verbose=True\n",
    ")\n",
    "```\n"
   ]
  },
  {
   "cell_type": "markdown",
   "id": "7905a58b",
   "metadata": {},
   "source": [
    "\n",
    "## Install dependencies\n"
   ]
  },
  {
   "cell_type": "code",
   "execution_count": null,
   "id": "f313302c",
   "metadata": {},
   "outputs": [],
   "source": [
    "!pip install crewai openai serpapi pandas -q"
   ]
  },
  {
   "cell_type": "markdown",
   "id": "1a709c0e",
   "metadata": {},
   "source": [
    "\n",
    "## Environment variables\n",
    "Provide your API keys before running the agents.\n"
   ]
  },
  {
   "cell_type": "code",
   "execution_count": null,
   "id": "a5b2458e",
   "metadata": {},
   "outputs": [],
   "source": [
    "import os\n",
    "SERPAPI_API_KEY = os.environ.get('SERPAPI_API_KEY')\n",
    "OPENAI_API_KEY = os.environ.get('OPENAI_API_KEY')\n",
    "assert SERPAPI_API_KEY and OPENAI_API_KEY, 'Set SERPAPI_API_KEY and OPENAI_API_KEY environment variables.'"
   ]
  },
  {
   "cell_type": "markdown",
   "id": "05ce7689",
   "metadata": {},
   "source": [
    "\n",
    "## SerpAPI search tool\n"
   ]
  },
  {
   "cell_type": "code",
   "execution_count": null,
   "id": "6570a852",
   "metadata": {},
   "outputs": [],
   "source": [
    "from typing import List, Dict\n",
    "import serpapi\n",
    "import pandas as pd\n",
    "\n",
    "class TwitterSearchTool:\n",
    "    def search(self, query: str, start: int = 0, num_results: int = 10) -> List[Dict]:\n",
    "        params = {\n",
    "            'q': f'site:twitter.com {query}',\n",
    "            'api_key': SERPAPI_API_KEY,\n",
    "            'start': start,\n",
    "            'num': num_results\n",
    "        }\n",
    "        results = serpapi.search(params)\n",
    "        accounts = []\n",
    "        for item in results.get('organic_results', []):\n",
    "            title = item.get('title')\n",
    "            link = item.get('link')\n",
    "            if link and 'twitter.com/' in link:\n",
    "                accounts.append({'title': title, 'link': link})\n",
    "        return accounts"
   ]
  },
  {
   "cell_type": "markdown",
   "id": "2019fb7b",
   "metadata": {},
   "source": [
    "\n",
    "## Helper function to gather accounts\n"
   ]
  },
  {
   "cell_type": "code",
   "execution_count": null,
   "id": "cbc38d1f",
   "metadata": {},
   "outputs": [],
   "source": [
    "def gather_accounts(topic: str, batch_size: int = 10, target: int = 1000) -> pd.DataFrame:\n",
    "    searcher = TwitterSearchTool()\n",
    "    collected: List[Dict] = []\n",
    "    start = 0\n",
    "    while len(collected) < target:\n",
    "        batch = searcher.search(topic, start=start, num_results=batch_size)\n",
    "        if not batch:\n",
    "            break\n",
    "        for acc in batch:\n",
    "            if acc not in collected:\n",
    "                collected.append(acc)\n",
    "        start += batch_size\n",
    "        print(f'Collected {len(collected)} accounts')\n",
    "    return pd.DataFrame(collected)"
   ]
  },
  {
   "cell_type": "markdown",
   "id": "3fd27f3f",
   "metadata": {},
   "source": [
    "\n",
    "## Define CrewAI agents and tasks\n"
   ]
  },
  {
   "cell_type": "code",
   "execution_count": null,
   "id": "9adc8731",
   "metadata": {},
   "outputs": [],
   "source": [
    "from crewai import Agent, Crew, Task, Process\n",
    "\n",
    "manager = Agent(\n",
    "    role='Search Manager',\n",
    "    goal='Find 1000 Twitter accounts about a topic',\n",
    "    backstory='Coordinates search strategy and delegates work',\n",
    "    allow_delegation=True,\n",
    "    verbose=True\n",
    ")\n",
    "\n",
    "searcher = Agent(\n",
    "    role='Twitter Searcher',\n",
    "    goal='Use SerpAPI to locate twitter accounts',\n",
    "    backstory='Expert at advanced search queries',\n",
    "    allow_delegation=False,\n",
    "    verbose=True\n",
    ")\n",
    "\n",
    "search_task = Task(\n",
    "    description='Gather 1000 unique Twitter accounts about the topic',\n",
    "    expected_output='DataFrame with account titles and links',\n",
    "    agent=manager\n",
    ")\n",
    "\n",
    "crew = Crew(\n",
    "    agents=[manager, searcher],\n",
    "    tasks=[search_task],\n",
    "    process=Process.hierarchical,\n",
    "    manager_llm='gpt-4o',\n",
    "    verbose=True\n",
    ")"
   ]
  },
  {
   "cell_type": "markdown",
   "id": "5d3c7df7",
   "metadata": {},
   "source": [
    "\n",
    "## Execute search\n"
   ]
  },
  {
   "cell_type": "code",
   "execution_count": null,
   "id": "f2169490",
   "metadata": {},
   "outputs": [],
   "source": [
    "topic = 'AI news'\n",
    "results_df = gather_accounts(topic)\n",
    "print(results_df.head())"
   ]
  }
 ],
 "metadata": {},
 "nbformat": 4,
 "nbformat_minor": 5
}
